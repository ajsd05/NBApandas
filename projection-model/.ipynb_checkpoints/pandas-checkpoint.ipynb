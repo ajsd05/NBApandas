{
 "cells": [
  {
   "cell_type": "code",
   "execution_count": 1,
   "id": "50027063-0416-4891-8a4d-cbd220525bf2",
   "metadata": {},
   "outputs": [],
   "source": [
    "import pandas as pd"
   ]
  },
  {
   "cell_type": "markdown",
   "id": "88877aa3-5a90-42ae-9803-07fb0a4a07f9",
   "metadata": {},
   "source": [
    "# Creating a Dataframe"
   ]
  },
  {
   "cell_type": "code",
   "execution_count": 2,
   "id": "9eaa71d2-68ce-47b9-b81d-14527c6173f5",
   "metadata": {},
   "outputs": [],
   "source": [
    "df = pd.DataFrame()"
   ]
  },
  {
   "cell_type": "code",
   "execution_count": 3,
   "id": "f77c9f55-d843-4f3b-858b-5c75cba495aa",
   "metadata": {},
   "outputs": [
    {
     "name": "stdout",
     "output_type": "stream",
     "text": [
      "Empty DataFrame\n",
      "Columns: []\n",
      "Index: []\n"
     ]
    }
   ],
   "source": [
    "print(df)"
   ]
  },
  {
   "cell_type": "code",
   "execution_count": 7,
   "id": "b7a6afe1-36f9-453c-9cb0-c25212d765cb",
   "metadata": {},
   "outputs": [],
   "source": [
    "lakers_dict = {'first_name' : ['Lebron,', 'Kyle', 'Lonzo', 'Brandon', 'Josh'],\n",
    "               'last_name'  : ['James', 'Kuzma', 'Ball', 'Ingram', 'Hart'],\n",
    "               'ppg'        : [27.4, 18.7, 9.9, 18.3, 7.8],\n",
    "               'apg'        : [8.3, 2.5, 5.4, 3.0, 1.4],\n",
    "               'rpg'        : [8.5, 5.5, 5.3, 5.1, 3.7]}"
   ]
  },
  {
   "cell_type": "code",
   "execution_count": 10,
   "id": "342c53df-c0c8-42e9-9f7a-d5e8cc657a33",
   "metadata": {},
   "outputs": [],
   "source": [
    "df = pd.DataFrame(lakers_dict)"
   ]
  },
  {
   "cell_type": "code",
   "execution_count": 11,
   "id": "bf2062eb-768b-4aa8-92c7-eb139b51d2c6",
   "metadata": {},
   "outputs": [
    {
     "name": "stdout",
     "output_type": "stream",
     "text": [
      "  first_name last_name   ppg  apg  rpg\n",
      "0    Lebron,     James  27.4  8.3  8.5\n",
      "1       Kyle     Kuzma  18.7  2.5  5.5\n",
      "2      Lonzo      Ball   9.9  5.4  5.3\n",
      "3    Brandon    Ingram  18.3  3.0  5.1\n",
      "4       Josh      Hart   7.8  1.4  3.7\n"
     ]
    }
   ],
   "source": [
    "print(df)"
   ]
  },
  {
   "cell_type": "code",
   "execution_count": 13,
   "id": "688e2aa6-81ed-43a2-b717-b772db2e6b62",
   "metadata": {},
   "outputs": [],
   "source": [
    "df = pd.DataFrame(lakers_dict, index=[1,2,3,4,5])"
   ]
  },
  {
   "cell_type": "code",
   "execution_count": 14,
   "id": "9f6c80b7-1021-489a-8cbb-8314301377d1",
   "metadata": {},
   "outputs": [
    {
     "name": "stdout",
     "output_type": "stream",
     "text": [
      "  first_name last_name   ppg  apg  rpg\n",
      "1    Lebron,     James  27.4  8.3  8.5\n",
      "2       Kyle     Kuzma  18.7  2.5  5.5\n",
      "3      Lonzo      Ball   9.9  5.4  5.3\n",
      "4    Brandon    Ingram  18.3  3.0  5.1\n",
      "5       Josh      Hart   7.8  1.4  3.7\n"
     ]
    }
   ],
   "source": [
    "print(df)"
   ]
  },
  {
   "cell_type": "code",
   "execution_count": 15,
   "id": "8f6e8824-9e10-460d-9ace-b579e58e90bd",
   "metadata": {},
   "outputs": [
    {
     "name": "stdout",
     "output_type": "stream",
     "text": [
      "          first_name last_name   ppg  apg  rpg\n",
      "playmaker    Lebron,     James  27.4  8.3  8.5\n",
      "pf              Kyle     Kuzma  18.7  2.5  5.5\n",
      "pg             Lonzo      Ball   9.9  5.4  5.3\n",
      "sf           Brandon    Ingram  18.3  3.0  5.1\n",
      "sg              Josh      Hart   7.8  1.4  3.7\n"
     ]
    }
   ],
   "source": [
    "df = pd.DataFrame(lakers_dict, index=['playmaker', 'pf', 'pg', 'sf', 'sg'])\n",
    "print(df)"
   ]
  },
  {
   "cell_type": "code",
   "execution_count": 16,
   "id": "5aa97335-bf3d-44a5-8e2a-48b9b6ec4527",
   "metadata": {},
   "outputs": [],
   "source": [
    "stats = [['Lebron', 4, 6], ['Kuzma', 2, 3], ['Ball', 4, 4]]"
   ]
  },
  {
   "cell_type": "code",
   "execution_count": 18,
   "id": "5e4051a8-28fe-44ed-a0e5-c375808042bc",
   "metadata": {},
   "outputs": [
    {
     "name": "stdout",
     "output_type": "stream",
     "text": [
      "   player  oreb  dreb\n",
      "0  Lebron     4     6\n",
      "1   Kuzma     2     3\n",
      "2    Ball     4     4\n"
     ]
    }
   ],
   "source": [
    "stats_df = pd.DataFrame(stats, columns = ['player', 'oreb', 'dreb'])\n",
    "print(stats_df)"
   ]
  },
  {
   "cell_type": "code",
   "execution_count": 19,
   "id": "402e1b59-dabb-4deb-806b-58936b46e97b",
   "metadata": {},
   "outputs": [
    {
     "name": "stdout",
     "output_type": "stream",
     "text": [
      "   lebron_rebounds\n",
      "0                6\n",
      "1                9\n",
      "2               11\n",
      "3                7\n",
      "4                3\n"
     ]
    }
   ],
   "source": [
    "rebounds = [6, 9, 11, 7, 3]\n",
    "series = pd.DataFrame(rebounds, columns = ['lebron_rebounds'])\n",
    "print(series)"
   ]
  },
  {
   "cell_type": "markdown",
   "id": "0813fce8-de3b-4881-ad59-76db24dca36d",
   "metadata": {},
   "source": [
    "# Reading CSV Files in Dataframes"
   ]
  },
  {
   "cell_type": "code",
   "execution_count": 25,
   "id": "f356c057-4678-4aac-80d6-7fc5639c0a21",
   "metadata": {},
   "outputs": [],
   "source": [
    "df = pd.read_csv('../nba-stats-csv/player_info.csv')"
   ]
  },
  {
   "cell_type": "code",
   "execution_count": 26,
   "id": "42c918e6-3af2-4e4d-9410-f34545ca2f27",
   "metadata": {},
   "outputs": [
    {
     "data": {
      "text/html": [
       "<div>\n",
       "<style scoped>\n",
       "    .dataframe tbody tr th:only-of-type {\n",
       "        vertical-align: middle;\n",
       "    }\n",
       "\n",
       "    .dataframe tbody tr th {\n",
       "        vertical-align: top;\n",
       "    }\n",
       "\n",
       "    .dataframe thead th {\n",
       "        text-align: right;\n",
       "    }\n",
       "</style>\n",
       "<table border=\"1\" class=\"dataframe\">\n",
       "  <thead>\n",
       "    <tr style=\"text-align: right;\">\n",
       "      <th></th>\n",
       "      <th>player_id</th>\n",
       "      <th>player_name</th>\n",
       "      <th>season_id</th>\n",
       "    </tr>\n",
       "  </thead>\n",
       "  <tbody>\n",
       "    <tr>\n",
       "      <th>0</th>\n",
       "      <td>920</td>\n",
       "      <td>A.C. Green</td>\n",
       "      <td>1996-97</td>\n",
       "    </tr>\n",
       "    <tr>\n",
       "      <th>1</th>\n",
       "      <td>243</td>\n",
       "      <td>Aaron McKie</td>\n",
       "      <td>1996-97</td>\n",
       "    </tr>\n",
       "    <tr>\n",
       "      <th>2</th>\n",
       "      <td>1425</td>\n",
       "      <td>Aaron Williams</td>\n",
       "      <td>1996-97</td>\n",
       "    </tr>\n",
       "    <tr>\n",
       "      <th>3</th>\n",
       "      <td>768</td>\n",
       "      <td>Acie Earl</td>\n",
       "      <td>1996-97</td>\n",
       "    </tr>\n",
       "    <tr>\n",
       "      <th>4</th>\n",
       "      <td>228</td>\n",
       "      <td>Adam Keefe</td>\n",
       "      <td>1996-97</td>\n",
       "    </tr>\n",
       "    <tr>\n",
       "      <th>5</th>\n",
       "      <td>154</td>\n",
       "      <td>Adrian Caldwell</td>\n",
       "      <td>1996-97</td>\n",
       "    </tr>\n",
       "    <tr>\n",
       "      <th>6</th>\n",
       "      <td>673</td>\n",
       "      <td>Alan Henderson</td>\n",
       "      <td>1996-97</td>\n",
       "    </tr>\n",
       "    <tr>\n",
       "      <th>7</th>\n",
       "      <td>1059</td>\n",
       "      <td>Aleksandar Djordjevic</td>\n",
       "      <td>1996-97</td>\n",
       "    </tr>\n",
       "    <tr>\n",
       "      <th>8</th>\n",
       "      <td>275</td>\n",
       "      <td>Allan Houston</td>\n",
       "      <td>1996-97</td>\n",
       "    </tr>\n",
       "    <tr>\n",
       "      <th>9</th>\n",
       "      <td>947</td>\n",
       "      <td>Allen Iverson</td>\n",
       "      <td>1996-97</td>\n",
       "    </tr>\n",
       "  </tbody>\n",
       "</table>\n",
       "</div>"
      ],
      "text/plain": [
       "   player_id            player_name season_id\n",
       "0        920             A.C. Green   1996-97\n",
       "1        243            Aaron McKie   1996-97\n",
       "2       1425         Aaron Williams   1996-97\n",
       "3        768              Acie Earl   1996-97\n",
       "4        228             Adam Keefe   1996-97\n",
       "5        154        Adrian Caldwell   1996-97\n",
       "6        673         Alan Henderson   1996-97\n",
       "7       1059  Aleksandar Djordjevic   1996-97\n",
       "8        275          Allan Houston   1996-97\n",
       "9        947          Allen Iverson   1996-97"
      ]
     },
     "execution_count": 26,
     "metadata": {},
     "output_type": "execute_result"
    }
   ],
   "source": [
    "df.head(10)"
   ]
  },
  {
   "cell_type": "code",
   "execution_count": 27,
   "id": "994d3e31-e700-42f5-9b9f-4482ea0f8fa1",
   "metadata": {},
   "outputs": [
    {
     "data": {
      "text/html": [
       "<div>\n",
       "<style scoped>\n",
       "    .dataframe tbody tr th:only-of-type {\n",
       "        vertical-align: middle;\n",
       "    }\n",
       "\n",
       "    .dataframe tbody tr th {\n",
       "        vertical-align: top;\n",
       "    }\n",
       "\n",
       "    .dataframe thead th {\n",
       "        text-align: right;\n",
       "    }\n",
       "</style>\n",
       "<table border=\"1\" class=\"dataframe\">\n",
       "  <thead>\n",
       "    <tr style=\"text-align: right;\">\n",
       "      <th></th>\n",
       "      <th>0</th>\n",
       "      <th>1</th>\n",
       "      <th>2</th>\n",
       "    </tr>\n",
       "  </thead>\n",
       "  <tbody>\n",
       "    <tr>\n",
       "      <th>0</th>\n",
       "      <td>920</td>\n",
       "      <td>A.C. Green</td>\n",
       "      <td>1996-97</td>\n",
       "    </tr>\n",
       "    <tr>\n",
       "      <th>1</th>\n",
       "      <td>243</td>\n",
       "      <td>Aaron McKie</td>\n",
       "      <td>1996-97</td>\n",
       "    </tr>\n",
       "    <tr>\n",
       "      <th>2</th>\n",
       "      <td>1425</td>\n",
       "      <td>Aaron Williams</td>\n",
       "      <td>1996-97</td>\n",
       "    </tr>\n",
       "    <tr>\n",
       "      <th>3</th>\n",
       "      <td>768</td>\n",
       "      <td>Acie Earl</td>\n",
       "      <td>1996-97</td>\n",
       "    </tr>\n",
       "    <tr>\n",
       "      <th>4</th>\n",
       "      <td>228</td>\n",
       "      <td>Adam Keefe</td>\n",
       "      <td>1996-97</td>\n",
       "    </tr>\n",
       "  </tbody>\n",
       "</table>\n",
       "</div>"
      ],
      "text/plain": [
       "      0               1        2\n",
       "0   920      A.C. Green  1996-97\n",
       "1   243     Aaron McKie  1996-97\n",
       "2  1425  Aaron Williams  1996-97\n",
       "3   768       Acie Earl  1996-97\n",
       "4   228      Adam Keefe  1996-97"
      ]
     },
     "execution_count": 27,
     "metadata": {},
     "output_type": "execute_result"
    }
   ],
   "source": [
    "df = pd.read_csv('../nba-stats-csv/player_info_no_header.csv', header=None)\n",
    "df.head(5)"
   ]
  },
  {
   "cell_type": "code",
   "execution_count": 29,
   "id": "a0c635fd-7369-4fa1-af22-55a91854a753",
   "metadata": {},
   "outputs": [],
   "source": [
    "df = pd.read_csv('../nba-stats-csv/player_info.csv', index_col='player_id')"
   ]
  },
  {
   "cell_type": "code",
   "execution_count": 30,
   "id": "c2fba596-fe4d-4926-9660-66f68f0bab43",
   "metadata": {},
   "outputs": [
    {
     "data": {
      "text/html": [
       "<div>\n",
       "<style scoped>\n",
       "    .dataframe tbody tr th:only-of-type {\n",
       "        vertical-align: middle;\n",
       "    }\n",
       "\n",
       "    .dataframe tbody tr th {\n",
       "        vertical-align: top;\n",
       "    }\n",
       "\n",
       "    .dataframe thead th {\n",
       "        text-align: right;\n",
       "    }\n",
       "</style>\n",
       "<table border=\"1\" class=\"dataframe\">\n",
       "  <thead>\n",
       "    <tr style=\"text-align: right;\">\n",
       "      <th></th>\n",
       "      <th>player_name</th>\n",
       "      <th>season_id</th>\n",
       "    </tr>\n",
       "    <tr>\n",
       "      <th>player_id</th>\n",
       "      <th></th>\n",
       "      <th></th>\n",
       "    </tr>\n",
       "  </thead>\n",
       "  <tbody>\n",
       "    <tr>\n",
       "      <th>920</th>\n",
       "      <td>A.C. Green</td>\n",
       "      <td>1996-97</td>\n",
       "    </tr>\n",
       "    <tr>\n",
       "      <th>243</th>\n",
       "      <td>Aaron McKie</td>\n",
       "      <td>1996-97</td>\n",
       "    </tr>\n",
       "    <tr>\n",
       "      <th>1425</th>\n",
       "      <td>Aaron Williams</td>\n",
       "      <td>1996-97</td>\n",
       "    </tr>\n",
       "    <tr>\n",
       "      <th>768</th>\n",
       "      <td>Acie Earl</td>\n",
       "      <td>1996-97</td>\n",
       "    </tr>\n",
       "    <tr>\n",
       "      <th>228</th>\n",
       "      <td>Adam Keefe</td>\n",
       "      <td>1996-97</td>\n",
       "    </tr>\n",
       "  </tbody>\n",
       "</table>\n",
       "</div>"
      ],
      "text/plain": [
       "              player_name season_id\n",
       "player_id                          \n",
       "920            A.C. Green   1996-97\n",
       "243           Aaron McKie   1996-97\n",
       "1425       Aaron Williams   1996-97\n",
       "768             Acie Earl   1996-97\n",
       "228            Adam Keefe   1996-97"
      ]
     },
     "execution_count": 30,
     "metadata": {},
     "output_type": "execute_result"
    }
   ],
   "source": [
    "df.head(5)"
   ]
  },
  {
   "cell_type": "code",
   "execution_count": 31,
   "id": "efa4d03d-1e80-4631-810e-34132ff62320",
   "metadata": {},
   "outputs": [],
   "source": [
    "df = pd.read_csv('../nba-stats-csv/player_general_traditional_per_game_data.csv', usecols=['player_id'])"
   ]
  },
  {
   "cell_type": "code",
   "execution_count": 32,
   "id": "acea9401-e54e-4aed-bc1e-fb39dc6b694a",
   "metadata": {},
   "outputs": [
    {
     "data": {
      "text/html": [
       "<div>\n",
       "<style scoped>\n",
       "    .dataframe tbody tr th:only-of-type {\n",
       "        vertical-align: middle;\n",
       "    }\n",
       "\n",
       "    .dataframe tbody tr th {\n",
       "        vertical-align: top;\n",
       "    }\n",
       "\n",
       "    .dataframe thead th {\n",
       "        text-align: right;\n",
       "    }\n",
       "</style>\n",
       "<table border=\"1\" class=\"dataframe\">\n",
       "  <thead>\n",
       "    <tr style=\"text-align: right;\">\n",
       "      <th></th>\n",
       "      <th>player_id</th>\n",
       "    </tr>\n",
       "  </thead>\n",
       "  <tbody>\n",
       "    <tr>\n",
       "      <th>0</th>\n",
       "      <td>471</td>\n",
       "    </tr>\n",
       "    <tr>\n",
       "      <th>1</th>\n",
       "      <td>920</td>\n",
       "    </tr>\n",
       "    <tr>\n",
       "      <th>2</th>\n",
       "      <td>243</td>\n",
       "    </tr>\n",
       "    <tr>\n",
       "      <th>3</th>\n",
       "      <td>1425</td>\n",
       "    </tr>\n",
       "    <tr>\n",
       "      <th>4</th>\n",
       "      <td>768</td>\n",
       "    </tr>\n",
       "  </tbody>\n",
       "</table>\n",
       "</div>"
      ],
      "text/plain": [
       "   player_id\n",
       "0        471\n",
       "1        920\n",
       "2        243\n",
       "3       1425\n",
       "4        768"
      ]
     },
     "execution_count": 32,
     "metadata": {},
     "output_type": "execute_result"
    }
   ],
   "source": [
    "df.head(5)"
   ]
  },
  {
   "cell_type": "code",
   "execution_count": null,
   "id": "a0115c55-11f8-4bf3-a783-1832e163ae11",
   "metadata": {},
   "outputs": [],
   "source": []
  }
 ],
 "metadata": {
  "kernelspec": {
   "display_name": "Python 3 (ipykernel)",
   "language": "python",
   "name": "python3"
  },
  "language_info": {
   "codemirror_mode": {
    "name": "ipython",
    "version": 3
   },
   "file_extension": ".py",
   "mimetype": "text/x-python",
   "name": "python",
   "nbconvert_exporter": "python",
   "pygments_lexer": "ipython3",
   "version": "3.12.7"
  }
 },
 "nbformat": 4,
 "nbformat_minor": 5
}
